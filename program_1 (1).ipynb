{
 "cells": [
  {
   "cell_type": "code",
   "execution_count": 7,
   "id": "7b273e9b",
   "metadata": {},
   "outputs": [
    {
     "name": "stdout",
     "output_type": "stream",
     "text": [
      "Fuzzy set A :  {'a': 0.2, 'b': 0.3, 'c': 0.4, 'd': 0.5}\n",
      "Fuzzy set B :  {'a': 0.7, 'b': 0.5, 'c': 0.9, 'd': 0.8}\n",
      "\n",
      "UNION :  {'a': 0.7, 'b': 0.5, 'c': 0.9, 'd': 0.8}\n",
      "\n",
      "INTERSECTION :  {'a': 0.2, 'b': 0.3, 'c': 0.4, 'd': 0.5}\n",
      "\n",
      "COMPLIMENT OF A :  {'a': 0.8, 'b': 0.7, 'c': 0.6, 'd': 0.5}\n",
      "\n",
      "COMPLIMENT OF B :  {'a': 0.3, 'b': 0.5, 'c': 0.1, 'd': 0.2}\n",
      "\n",
      "ALGEBRAIC_SUM :  {'a': 0.76, 'b': 0.65, 'c': 0.94, 'd': 0.9}\n",
      "\n",
      "ALGEBRAIC_PRODUCT :  {'a': 0.14, 'b': 0.15, 'c': 0.36, 'd': 0.4}\n",
      "\n",
      "BOUNDED_SUM:  {'a': 0.9, 'b': 0.8, 'c': 1, 'd': 1}\n",
      "\n",
      "BOUNDED_DIFF:  {'a': 0.5, 'b': 0.2, 'c': 0.5, 'd': 0.3}\n"
     ]
    }
   ],
   "source": [
    "A={\"a\":0.2,\"b\":0.3,\"c\":0.4,\"d\":0.5}\n",
    "B={\"a\":0.7,\"b\":0.5,\"c\":0.9,\"d\":0.8}\n",
    "u={}\n",
    "print(\"Fuzzy set A : \",A)\n",
    "print(\"Fuzzy set B : \",B)\n",
    "\n",
    "def union(A,B):\n",
    "    for i in A and B:\n",
    "        u[i]=max(A[i],B[i])\n",
    "    return u\n",
    "print(\"\\nUNION : \",union(A,B))\n",
    "\n",
    "def intersection(A,B):\n",
    "    for i in A and B:\n",
    "        u[i]=min(A[i],B[i])\n",
    "    return u\n",
    "print(\"\\nINTERSECTION : \",intersection(A,B))\n",
    "\n",
    "def compliment(A):\n",
    "    for i in A:\n",
    "        u[i]=round(1-A[i],2)\n",
    "    return u\n",
    "print(\"\\nCOMPLIMENT OF A : \",compliment(A))\n",
    "print(\"\\nCOMPLIMENT OF B : \",compliment(B))\n",
    "\n",
    "def algebraic_sum(A,B):\n",
    "    for i in A and B:\n",
    "        u[i]=round(A[i]+B[i]-A[i]*B[i],2)\n",
    "    return u\n",
    "print(\"\\nALGEBRAIC_SUM : \",algebraic_sum(A,B))\n",
    "\n",
    "def algebraic_product(A,B):\n",
    "    for i in A and B:\n",
    "        u[i]=round((A[i]*B[i]),2)\n",
    "    return u\n",
    "print(\"\\nALGEBRAIC_PRODUCT : \",algebraic_product(A,B))\n",
    "\n",
    "def bounded_sum(A,B):\n",
    "    for i in A and B:\n",
    "        u[i]=round(min(1,A[i]+B[i]),2)\n",
    "    return u\n",
    "print(\"\\nBOUNDED_SUM: \",bounded_sum(A,B))\n",
    "\n",
    "def bounded_diff(A,B):\n",
    "    for i in A and B:\n",
    "        u[i]=round(max(0,B[i]-A[i]),2)\n",
    "    return u\n",
    "print(\"\\nBOUNDED_DIFF: \",bounded_diff(A,B))"
   ]
  },
  {
   "cell_type": "code",
   "execution_count": null,
   "id": "31276a14",
   "metadata": {},
   "outputs": [],
   "source": []
  }
 ],
 "metadata": {
  "kernelspec": {
   "display_name": "Python 3 (ipykernel)",
   "language": "python",
   "name": "python3"
  },
  "language_info": {
   "codemirror_mode": {
    "name": "ipython",
    "version": 3
   },
   "file_extension": ".py",
   "mimetype": "text/x-python",
   "name": "python",
   "nbconvert_exporter": "python",
   "pygments_lexer": "ipython3",
   "version": "3.9.13"
  }
 },
 "nbformat": 4,
 "nbformat_minor": 5
}
